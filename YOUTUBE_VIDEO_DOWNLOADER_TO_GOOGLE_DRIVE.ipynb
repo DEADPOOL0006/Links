{
  "nbformat": 4,
  "nbformat_minor": 0,
  "metadata": {
    "colab": {
      "provenance": [],
      "authorship_tag": "ABX9TyMgE/qXicTx+aasyE/G1KCN",
      "include_colab_link": true
    },
    "kernelspec": {
      "name": "python3",
      "display_name": "Python 3"
    },
    "language_info": {
      "name": "python"
    }
  },
  "cells": [
    {
      "cell_type": "markdown",
      "metadata": {
        "id": "view-in-github",
        "colab_type": "text"
      },
      "source": [
        "<a href=\"https://colab.research.google.com/github/DEADPOOL0006/attendancecalculator/blob/main/YOUTUBE_VIDEO_DOWNLOADER_TO_GOOGLE_DRIVE.ipynb\" target=\"_parent\"><img src=\"https://colab.research.google.com/assets/colab-badge.svg\" alt=\"Open In Colab\"/></a>"
      ]
    },
    {
      "cell_type": "code",
      "execution_count": null,
      "metadata": {
        "colab": {
          "base_uri": "https://localhost:8080/"
        },
        "id": "nsooul4Qzu4H",
        "outputId": "df458aad-0df8-4456-bba9-1030811bf63c"
      },
      "outputs": [
        {
          "output_type": "stream",
          "name": "stdout",
          "text": [
            "Requirement already satisfied: yt-dlp in /usr/local/lib/python3.10/dist-packages (2024.12.6)\n"
          ]
        }
      ],
      "source": [
        "!pip install yt-dlp"
      ]
    },
    {
      "cell_type": "code",
      "source": [
        "from google.colab import drive\n",
        "drive.mount('/content/drive')"
      ],
      "metadata": {
        "colab": {
          "base_uri": "https://localhost:8080/"
        },
        "id": "Cs3DZILDz6YA",
        "outputId": "ab4c36a4-ddb0-4936-d08a-f0817c9211e6"
      },
      "execution_count": null,
      "outputs": [
        {
          "output_type": "stream",
          "name": "stdout",
          "text": [
            "Mounted at /content/drive\n"
          ]
        }
      ]
    },
    {
      "cell_type": "code",
      "source": [
        "from yt_dlp import YoutubeDL"
      ],
      "metadata": {
        "id": "ywe_W2_I0E3s"
      },
      "execution_count": null,
      "outputs": []
    },
    {
      "cell_type": "code",
      "source": [
        "video_url = ' '"
      ],
      "metadata": {
        "id": "nucDRK604K0b"
      },
      "execution_count": null,
      "outputs": []
    },
    {
      "cell_type": "code",
      "source": [
        "with YoutubeDL({'listformats': True}) as ydl:\n",
        "    info = ydl.extract_info(video_url, download=False)\n",
        "    formats = info.get('formats', [])\n",
        "    # Print available formats with audio bit rate (if applicable)\n",
        "    for f in formats:\n",
        "        # Print format details\n",
        "        if f.get('acodec') != 'none':  # Check if the format has audio\n",
        "            print(f\"Format code: {f['format_id']}, Resolution: {f.get('height', 'N/A')}, \"\n",
        "                  f\"Extension: {f['ext']}, Audio Bitrate: {f.get('abr', 'N/A')} kbps\")\n",
        "        else:\n",
        "            print(f\"Format code: {f['format_id']}, Resolution: {f.get('height', 'N/A')}, \"\n",
        "                  f\"Extension: {f['ext']}\")"
      ],
      "metadata": {
        "id": "sDuXoPsF0Qu9",
        "colab": {
          "base_uri": "https://localhost:8080/"
        },
        "outputId": "d8f0d4ba-24ce-401e-87bc-c2342a654d8d"
      },
      "execution_count": null,
      "outputs": [
        {
          "output_type": "stream",
          "name": "stdout",
          "text": [
            
          ]
        }
      ]
    },
    {
      "cell_type": "code",
      "source": [
        "video_format = ''  # Example: Replace with the desired video format code (e.g., 22 for 720p)\n",
        "audio_format = ''  # Example: Replace with the desired audio format code (e.g., 140 for m4a audio)"
      ],
      "metadata": {
        "id": "MOZP3XxhONWe"
      },
      "execution_count": null,
      "outputs": []
    },
    {
      "cell_type": "code",
      "source": [
        "ydl_opts = {\n",
        "    'format': f'{video_format}+{audio_format}',  # Combine video and audio formats\n",
        "    'outtmpl': '/content/drive/My Drive/%(title)s.%(ext)s',  # Save to Google Drive\n",
        "    'merge_output_format': 'mp4',  # Merge into mp4 format\n",
        "}"
      ],
      "metadata": {
        "id": "h0NPvWrT5sfs"
      },
      "execution_count": null,
      "outputs": []
    },
    {
      "cell_type": "code",
      "source": [
        "with YoutubeDL(ydl_opts) as ydl:\n",
        "    ydl.download([video_url])\n",
        "\n",
        "print(\"Download and merge completed, saved to Google Drive!\")"
      ],
      "metadata": {
        "colab": {
          "base_uri": "https://localhost:8080/"
        },
        "id": "B1A93ht15yh9",
        "outputId": "4d41ed56-f599-4754-8e96-51745dc88542"
      },
      "execution_count": null,
      "outputs": [
        {
          "output_type": "stream",
          "name": "stdout",
          "text": [
            "[youtube] Extracting URL: https://youtu.be/5cx7rvMvAWo?si=REAqP14mmHpvqGJ3\n",
            "[youtube] 5cx7rvMvAWo: Downloading webpage\n",
            "[youtube] 5cx7rvMvAWo: Downloading ios player API JSON\n",
            "[youtube] 5cx7rvMvAWo: Downloading mweb player API JSON\n",
            "[youtube] 5cx7rvMvAWo: Downloading m3u8 information\n",
            "[info] 5cx7rvMvAWo: Downloading 1 format(s): 248+140\n",
            "[download] Destination: /content/drive/My Drive/Devara Part -1 Trailer (Telugu) ｜ NTR ｜ Saif Ali Khan ｜ Janhvi ｜ Koratala Siva ｜ Anirudh ｜ Sep 27.f248.webm\n",
            "[download] 100% of   24.57MiB in 00:00:00 at 35.41MiB/s  \n",
            "[download] Destination: /content/drive/My Drive/Devara Part -1 Trailer (Telugu) ｜ NTR ｜ Saif Ali Khan ｜ Janhvi ｜ Koratala Siva ｜ Anirudh ｜ Sep 27.f140.m4a\n",
            "[download] 100% of    2.46MiB in 00:00:00 at 25.09MiB/s  \n",
            "[Merger] Merging formats into \"/content/drive/My Drive/Devara Part -1 Trailer (Telugu) ｜ NTR ｜ Saif Ali Khan ｜ Janhvi ｜ Koratala Siva ｜ Anirudh ｜ Sep 27.mp4\"\n",
            "Deleting original file /content/drive/My Drive/Devara Part -1 Trailer (Telugu) ｜ NTR ｜ Saif Ali Khan ｜ Janhvi ｜ Koratala Siva ｜ Anirudh ｜ Sep 27.f248.webm (pass -k to keep)\n",
            "Deleting original file /content/drive/My Drive/Devara Part -1 Trailer (Telugu) ｜ NTR ｜ Saif Ali Khan ｜ Janhvi ｜ Koratala Siva ｜ Anirudh ｜ Sep 27.f140.m4a (pass -k to keep)\n",
            "Download and merge completed, saved to Google Drive!\n"
          ]
        }
      ]
    }
  ]
}
