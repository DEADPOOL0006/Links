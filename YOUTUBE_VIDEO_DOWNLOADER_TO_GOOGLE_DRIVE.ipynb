{
  "cells": [
    {
      "cell_type": "markdown",
      "metadata": {
        "id": "view-in-github",
        "colab_type": "text"
      },
      "source": [
        "<a href=\"https://colab.research.google.com/github/DEADPOOL0006/attendancecalculator/blob/main/YOUTUBE_VIDEO_DOWNLOADER_TO_GOOGLE_DRIVE.ipynb\" target=\"_parent\"><img src=\"https://colab.research.google.com/assets/colab-badge.svg\" alt=\"Open In Colab\"/></a>"
      ]
    },
    {
      "cell_type": "code",
      "execution_count": null,
      "metadata": {
        "colab": {
          "background_save": true
        },
        "id": "nsooul4Qzu4H"
      },
      "outputs": [],
      "source": [
        "!pip install yt-dlp"
      ]
    },
    {
      "cell_type": "code",
      "execution_count": null,
      "metadata": {
        "id": "Cs3DZILDz6YA"
      },
      "outputs": [],
      "source": [
        "from google.colab import drive\n",
        "drive.mount('/content/drive')"
      ]
    },
    {
      "cell_type": "code",
      "execution_count": null,
      "metadata": {
        "id": "ywe_W2_I0E3s"
      },
      "outputs": [],
      "source": [
        "from yt_dlp import YoutubeDL"
      ]
    },
    {
      "cell_type": "code",
      "execution_count": null,
      "metadata": {
        "id": "nucDRK604K0b"
      },
      "outputs": [],
      "source": [
        "video_url = 'https://youtu.be/5cx7rvMvAWo?si=MNsP9WUQ8-DS21Z9 '"
      ]
    },
    {
      "cell_type": "code",
      "execution_count": null,
      "metadata": {
        "id": "FLnzGpqZwE9W"
      },
      "outputs": [],
      "source": [
        "with YoutubeDL({'listformats': True}) as ydl:\n",
        "    info = ydl.extract_info(video_url, download=False)\n",
        "    formats = info.get('formats', [])\n",
        "    for f in formats:\n",
        "        if f.get('acodec') != 'none':  # Check if the format has audio\n",
        "            print(f\"Format code: {f['format_id']}, Resolution: {f.get('height', 'N/A')}, \"\n",
        "                  f\"Extension: {f['ext']}, Audio Bitrate: {f.get('abr', 'N/A')} kbps\")\n",
        "        else:\n",
        "            print(f\"Format code: {f['format_id']}, Resolution: {f.get('height', 'N/A')}, \"\n",
        "                  f\"Extension: {f['ext']}\")"
      ]
    },
    {
      "cell_type": "code",
      "execution_count": null,
      "metadata": {
        "id": "MOZP3XxhONWe"
      },
      "outputs": [],
      "source": [
        "video_format = ''\n",
        "audio_format = ''"
      ]
    },
    {
      "cell_type": "code",
      "execution_count": null,
      "metadata": {
        "id": "h0NPvWrT5sfs"
      },
      "outputs": [],
      "source": [
        "ydl_opts = {\n",
        "    'format': f'{video_format}+{audio_format}',  # Combine video and audio formats\n",
        "    'outtmpl': '/content/drive/My Drive/%(title)s.%(ext)s',  # Save to Google Drive\n",
        "    'merge_output_format': 'mp4',  # Merge into mp4 format\n",
        "}"
      ]
    },
    {
      "cell_type": "code",
      "execution_count": null,
      "metadata": {
        "id": "TCURdMQ_wWec"
      },
      "outputs": [],
      "source": [
        "with YoutubeDL(ydl_opts) as ydl:\n",
        "    ydl.download([video_url])\n",
        "\n",
        "print(\"Download and merge completed, saved to Google Drive!\")"
      ]
    }
  ],
  "metadata": {
    "colab": {
      "provenance": [],
      "authorship_tag": "ABX9TyNYokgOgb7yolVxvptTK6qo",
      "include_colab_link": true
    },
    "kernelspec": {
      "display_name": "Python 3",
      "name": "python3"
    },
    "language_info": {
      "name": "python"
    }
  },
  "nbformat": 4,
  "nbformat_minor": 0
}