{
  "cells": [
    {
      "cell_type": "markdown",
      "metadata": {
        "id": "view-in-github",
        "colab_type": "text"
      },
      "source": [
        "<a href=\"https://colab.research.google.com/github/DEADPOOL0006/attendancecalculator/blob/main/YOUTUBE_VIDEO_DOWNLOADER_TO_GOOGLE_DRIVE.ipynb\" target=\"_parent\"><img src=\"https://colab.research.google.com/assets/colab-badge.svg\" alt=\"Open In Colab\"/></a>"
      ]
    },
    {
      "cell_type": "markdown",
      "source": [
        "# Step 1: Install yt-dlp"
      ],
      "metadata": {
        "id": "4RH4iF1nEbLk"
      }
    },
    {
      "cell_type": "code",
      "execution_count": null,
      "metadata": {
        "colab": {
          "background_save": true
        },
        "id": "nsooul4Qzu4H"
      },
      "outputs": [],
      "source": [
        "!pip install yt-dlp"
      ]
    },
    {
      "cell_type": "markdown",
      "source": [
        "# Step 2: Connect With Your Google Drive Account"
      ],
      "metadata": {
        "id": "lQQWWQW7Eyf2"
      }
    },
    {
      "cell_type": "code",
      "execution_count": null,
      "metadata": {
        "id": "Cs3DZILDz6YA"
      },
      "outputs": [],
      "source": [
        "from google.colab import drive\n",
        "drive.mount('/content/drive')"
      ]
    },
    {
      "cell_type": "markdown",
      "source": [
        "# Step 3: Import YoutubeDL from yt-dlp"
      ],
      "metadata": {
        "id": "ebxcEkVCFPYg"
      }
    },
    {
      "cell_type": "code",
      "execution_count": 3,
      "metadata": {
        "id": "ywe_W2_I0E3s"
      },
      "outputs": [],
      "source": [
        "from yt_dlp import YoutubeDL"
      ]
    },
    {
      "cell_type": "markdown",
      "source": [
        "# Step 4: Set the URL of the YouTube video"
      ],
      "metadata": {
        "id": "BEqm0hpYFWGU"
      }
    },
    {
      "cell_type": "code",
      "execution_count": null,
      "metadata": {
        "id": "nucDRK604K0b"
      },
      "outputs": [],
      "source": [
        "video_url = 'xxxxx'  # Remove xxxxx Replace with the Your desired video URL"
      ]
    },
    {
      "cell_type": "markdown",
      "source": [
        "# Step 5: List available formats"
      ],
      "metadata": {
        "id": "mfRkeS7cFf7S"
      }
    },
    {
      "cell_type": "code",
      "execution_count": null,
      "metadata": {
        "id": "FLnzGpqZwE9W"
      },
      "outputs": [],
      "source": [
        "with YoutubeDL({'listformats': True}) as ydl:\n",
        "    info = ydl.extract_info(video_url, download=False)\n",
        "    formats = info.get('formats', [])\n",
        "    for f in formats:\n",
        "        if f.get('acodec') != 'none':  # Check if the format has audio\n",
        "            print(f\"Format code: {f['format_id']}, Resolution: {f.get('height', 'N/A')}, \"\n",
        "                  f\"Extension: {f['ext']}, Audio Bitrate: {f.get('abr', 'N/A')} kbps\")\n",
        "        else:\n",
        "            print(f\"Format code: {f['format_id']}, Resolution: {f.get('height', 'N/A')}, \"\n",
        "                  f\"Extension: {f['ext']}\")"
      ]
    },
    {
      "cell_type": "markdown",
      "source": [
        "# Step 6: Specify desired format codes"
      ],
      "metadata": {
        "id": "fZy8XA3HFpt1"
      }
    },
    {
      "cell_type": "code",
      "execution_count": null,
      "metadata": {
        "id": "MOZP3XxhONWe"
      },
      "outputs": [],
      "source": [
        "video_format = 'xx'  # Remove xx what format You want Type Here For Example: '137' (Replace based on the output above)\n",
        "audio_format = 'xx'  # Remove xx what format You want Type Here For Example: '140' (Replace based on the output above)"
      ]
    },
    {
      "cell_type": "markdown",
      "source": [
        "# Step 7: Configure download options"
      ],
      "metadata": {
        "id": "QSgSLDEUF1V0"
      }
    },
    {
      "cell_type": "code",
      "execution_count": null,
      "metadata": {
        "id": "h0NPvWrT5sfs"
      },
      "outputs": [],
      "source": [
        "ydl_opts = {\n",
        "    'format': f'{video_format}+{audio_format}',  # Combine selected video and audio formats\n",
        "    'outtmpl': '/content/drive/My Drive/%(title)s.%(ext)s',  # Save to Google Drive\n",
        "    'merge_output_format': 'mp4',  # Merge the video and audio into an MP4 file\n",
        "}"
      ]
    },
    {
      "cell_type": "markdown",
      "source": [
        "# Step 8: Download and merge the selected formats"
      ],
      "metadata": {
        "id": "Jm_HCmQCF-sr"
      }
    },
    {
      "cell_type": "code",
      "execution_count": null,
      "metadata": {
        "id": "TCURdMQ_wWec"
      },
      "outputs": [],
      "source": [
        "with YoutubeDL(ydl_opts) as ydl:\n",
        "    ydl.download([video_url])  # Start the download process\n",
        "\n",
        "print(\"Download and merge completed. File saved to Google Drive!\")"
      ]
    }
  ],
  "metadata": {
    "colab": {
      "provenance": [],
      "authorship_tag": "ABX9TyNjWxOXMlxP1v8Uhzd8FpYY",
      "include_colab_link": true
    },
    "kernelspec": {
      "display_name": "Python 3",
      "name": "python3"
    },
    "language_info": {
      "name": "python"
    }
  },
  "nbformat": 4,
  "nbformat_minor": 0
}