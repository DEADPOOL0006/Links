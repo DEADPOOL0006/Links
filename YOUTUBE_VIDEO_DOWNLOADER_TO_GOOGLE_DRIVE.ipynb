{
  "nbformat": 4,
  "nbformat_minor": 0,
  "metadata": {
    "colab": {
      "provenance": [],
      "authorship_tag": "ABX9TyMgE/qXicTx+aasyE/G1KCN",
      "include_colab_link": true
    },
    "kernelspec": {
      "name": "python3",
      "display_name": "Python 3"
    },
    "language_info": {
      "name": "python"
    }
  },
  "cells": [
    {
      "cell_type": "markdown",
      "metadata": {
        "id": "view-in-github",
        "colab_type": "text"
      },
      "source": [
        "<a href=\"https://colab.research.google.com/github/DEADPOOL0006/attendancecalculator/blob/main/YOUTUBE_VIDEO_DOWNLOADER_TO_GOOGLE_DRIVE.ipynb\" target=\"_parent\"><img src=\"https://colab.research.google.com/assets/colab-badge.svg\" alt=\"Open In Colab\"/></a>"
      ]
    },
    {
      "cell_type": "code",
      "execution_count": null,
      "metadata": {
        "colab": {
          "base_uri": "https://localhost:8080/"
        },
        "id": "nsooul4Qzu4H",
        "outputId": "df458aad-0df8-4456-bba9-1030811bf63c"
      },
      "outputs": [
        {
          "output_type": "stream",
          "name": "stdout",
          "text": [
            "Requirement already satisfied: yt-dlp in /usr/local/lib/python3.10/dist-packages (2024.12.6)\n"
          ]
        }
      ],
      "source": [
        "!pip install yt-dlp"
      ]
    },
    {
      "cell_type": "code",
      "source": [
        "from google.colab import drive\n",
        "drive.mount('/content/drive')"
      ],
      "metadata": {
        "colab": {
          "base_uri": "https://localhost:8080/"
        },
        "id": "Cs3DZILDz6YA",
        "outputId": "ab4c36a4-ddb0-4936-d08a-f0817c9211e6"
      },
      "execution_count": null,
      "outputs": [
        {
          "output_type": "stream",
          "name": "stdout",
          "text": [
            "Mounted at /content/drive\n"
          ]
        }
      ]
    },
    {
      "cell_type": "code",
      "source": [
        "from yt_dlp import YoutubeDL"
      ],
      "metadata": {
        "id": "ywe_W2_I0E3s"
      },
      "execution_count": null,
      "outputs": []
    },
    {
      "cell_type": "code",
      "source": [
        "video_url = ' '"
      ],
      "metadata": {
        "id": "nucDRK604K0b"
      },
      "execution_count": null,
      "outputs": []
    },
    {
      "cell_type": "code",
      "source": [
        "with YoutubeDL({'listformats': True}) as ydl:\n",
        "    info = ydl.extract_info(video_url, download=False)\n",
        "    formats = info.get('formats', [])\n",
        "    # Print available formats with audio bit rate (if applicable)\n",
        "    for f in formats:\n",
        "        # Print format details\n",
        "        if f.get('acodec') != 'none':  # Check if the format has audio\n",
        "            print(f\"Format code: {f['format_id']}, Resolution: {f.get('height', 'N/A')}, \"\n",
        "                  f\"Extension: {f['ext']}, Audio Bitrate: {f.get('abr', 'N/A')} kbps\")\n",
        "        else:\n",
        "            print(f\"Format code: {f['format_id']}, Resolution: {f.get('height', 'N/A')}, \"\n",
        "                  f\"Extension: {f['ext']}\")"
      ],
      "metadata": {
        "id": "sDuXoPsF0Qu9",
        "colab": {
          "base_uri": "https://localhost:8080/"
        },
        "outputId": "d8f0d4ba-24ce-401e-87bc-c2342a654d8d"
      },
      "execution_count": null,
      "outputs": [
        {
          "output_type": "stream",
          "name": "stdout",
          "text": [
            "[youtube] Extracting URL: https://youtu.be/5cx7rvMvAWo?si=REAqP14mmHpvqGJ3\n",
            "[youtube] 5cx7rvMvAWo: Downloading webpage\n",
            "[youtube] 5cx7rvMvAWo: Downloading ios player API JSON\n",
            "[youtube] 5cx7rvMvAWo: Downloading mweb player API JSON\n",
            "[youtube] 5cx7rvMvAWo: Downloading m3u8 information\n",
            "[info] Available formats for 5cx7rvMvAWo:\n",
            "ID      EXT   RESOLUTION FPS CH |   FILESIZE    TBR PROTO | VCODEC           VBR ACODEC      ABR ASR MORE INFO\n",
            "----------------------------------------------------------------------------------------------------------------------------------\n",
            "sb3     mhtml 48x27        1    |                   mhtml | images                                   storyboard\n",
            "sb2     mhtml 80x45        1    |                   mhtml | images                                   storyboard\n",
            "sb1     mhtml 160x90       1    |                   mhtml | images                                   storyboard\n",
            "sb0     mhtml 320x180      1    |                   mhtml | images                                   storyboard\n",
            "233     mp4   audio only        |                   m3u8  | audio only           unknown             [hi] Default\n",
            "234     mp4   audio only        |                   m3u8  | audio only           unknown             [hi] Default\n",
            "599-drc m4a   audio only      2 |  601.26KiB    31k https | audio only           mp4a.40.5   31k 22k [hi] ultralow, DRC, m4a_dash\n",
            "600-drc webm  audio only      2 |  645.47KiB    33k https | audio only           opus        33k 48k [hi] ultralow, DRC, webm_dash\n",
            "599     m4a   audio only      2 |  601.27KiB    31k https | audio only           mp4a.40.5   31k 22k [hi] ultralow, m4a_dash\n",
            "600     webm  audio only      2 |  646.21KiB    33k https | audio only           opus        33k 48k [hi] ultralow, webm_dash\n",
            "139-drc m4a   audio only      2 |  951.58KiB    49k https | audio only           mp4a.40.5   49k 22k [hi] low, DRC, m4a_dash\n",
            "249-drc webm  audio only      2 |  953.14KiB    49k https | audio only           opus        49k 48k [hi] low, DRC, webm_dash\n",
            "250-drc webm  audio only      2 |    1.23MiB    65k https | audio only           opus        65k 48k [hi] low, DRC, webm_dash\n",
            "139     m4a   audio only      2 |  951.63KiB    49k https | audio only           mp4a.40.5   49k 22k [hi] low, m4a_dash\n",
            "249     webm  audio only      2 |  954.25KiB    49k https | audio only           opus        49k 48k [hi] low, webm_dash\n",
            "250     webm  audio only      2 |    1.23MiB    65k https | audio only           opus        65k 48k [hi] low, webm_dash\n",
            "140-drc m4a   audio only      2 |    2.46MiB   130k https | audio only           mp4a.40.2  130k 44k [hi] medium, DRC, m4a_dash\n",
            "251-drc webm  audio only      2 |    2.46MiB   129k https | audio only           opus       129k 48k [hi] medium, DRC, webm_dash\n",
            "140     m4a   audio only      2 |    2.46MiB   130k https | audio only           mp4a.40.2  130k 44k [hi] medium, m4a_dash\n",
            "251     webm  audio only      2 |    2.46MiB   129k https | audio only           opus       129k 48k [hi] medium, webm_dash\n",
            "597     mp4   256x144     12    |  649.94KiB    33k https | avc1.4d400b      33k video only          144p, mp4_dash\n",
            "602     mp4   256x144     12    | ~  1.55MiB    81k m3u8  | vp09.00.10.08    81k video only\n",
            "598     webm  256x144     12    |  475.09KiB    24k https | vp9              24k video only          144p, webm_dash\n",
            "269     mp4   256x144     24    | ~  3.18MiB   167k m3u8  | avc1.4D400C     167k video only\n",
            "160     mp4   256x144     24    |    1.10MiB    58k https | avc1.4D400C      58k video only          144p, mp4_dash\n",
            "603     mp4   256x144     24    | ~  3.27MiB   171k m3u8  | vp09.00.11.08   171k video only\n",
            "278     webm  256x144     24    |    1.33MiB    70k https | vp09.00.11.08    70k video only          144p, webm_dash\n",
            "394     mp4   256x144     24    |    1.04MiB    55k https | av01.0.00M.08    55k video only          144p, mp4_dash\n",
            "229     mp4   426x240     24    | ~  5.90MiB   309k m3u8  | avc1.4D4015     309k video only\n",
            "133     mp4   426x240     24    |    2.41MiB   127k https | avc1.4D4015     127k video only          240p, mp4_dash\n",
            "604     mp4   426x240     24    | ~  5.88MiB   308k m3u8  | vp09.00.20.08   308k video only\n",
            "242     webm  426x240     24    |    2.23MiB   117k https | vp09.00.20.08   117k video only          240p, webm_dash\n",
            "395     mp4   426x240     24    |    1.78MiB    94k https | av01.0.00M.08    94k video only          240p, mp4_dash\n",
            "230     mp4   640x360     24    | ~ 11.93MiB   625k m3u8  | avc1.4D401E     625k video only\n",
            "134     mp4   640x360     24    |    4.43MiB   233k https | avc1.4D401E     233k video only          360p, mp4_dash\n",
            "18      mp4   640x360     24  2 |   10.94MiB   575k https | avc1.42001E          mp4a.40.2       44k [hi] 360p\n",
            "605     mp4   640x360     24    | ~ 15.49MiB   812k m3u8  | vp09.00.21.08   812k video only\n",
            "243     webm  640x360     24    |    5.70MiB   300k https | vp09.00.21.08   300k video only          360p, webm_dash\n",
            "396     mp4   640x360     24    |    3.49MiB   183k https | av01.0.01M.08   183k video only          360p, mp4_dash\n",
            "231     mp4   854x480     24    | ~ 17.48MiB   917k m3u8  | avc1.4D401E     917k video only\n",
            "135     mp4   854x480     24    |    7.90MiB   415k https | avc1.4D401E     415k video only          480p, mp4_dash\n",
            "606     mp4   854x480     24    | ~ 22.23MiB  1165k m3u8  | vp09.00.30.08  1165k video only\n",
            "244     webm  854x480     24    |    7.89MiB   415k https | vp09.00.30.08   415k video only          480p, webm_dash\n",
            "397     mp4   854x480     24    |    6.33MiB   333k https | av01.0.04M.08   333k video only          480p, mp4_dash\n",
            "232     mp4   1280x720    24    | ~ 24.61MiB  1290k m3u8  | avc1.4D401F    1290k video only\n",
            "136     mp4   1280x720    24    |   14.70MiB   773k https | avc1.4D401F     773k video only          720p, mp4_dash\n",
            "609     mp4   1280x720    24    | ~ 40.54MiB  2125k m3u8  | vp09.00.31.08  2125k video only\n",
            "247     webm  1280x720    24    |   14.31MiB   752k https | vp09.00.31.08   752k video only          720p, webm_dash\n",
            "398     mp4   1280x720    24    |   11.90MiB   626k https | av01.0.05M.08   626k video only          720p, mp4_dash\n",
            "270     mp4   1920x1080   24    | ~ 89.33MiB  4683k m3u8  | avc1.640028    4683k video only\n",
            "137     mp4   1920x1080   24    |   41.16MiB  2164k https | avc1.640028    2164k video only          1080p, mp4_dash\n",
            "614     mp4   1920x1080   24    | ~ 63.95MiB  3353k m3u8  | vp09.00.40.08  3353k video only\n",
            "248     webm  1920x1080   24    |   24.57MiB  1292k https | vp09.00.40.08  1292k video only          1080p, webm_dash\n",
            "399     mp4   1920x1080   24    |   20.28MiB  1066k https | av01.0.08M.08  1066k video only          1080p, mp4_dash\n",
            "620     mp4   2560x1440   24    | ~175.58MiB  9205k m3u8  | vp09.00.50.08  9205k video only\n",
            "271     webm  2560x1440   24    |   82.53MiB  4339k https | vp09.00.50.08  4339k video only          1440p, webm_dash\n",
            "400     mp4   2560x1440   24    |   63.37MiB  3332k https | av01.0.12M.08  3332k video only          1440p, mp4_dash\n",
            "625     mp4   3840x2160   24    | ~347.34MiB 18211k m3u8  | vp09.00.50.08 18211k video only\n",
            "313     webm  3840x2160   24    |  221.19MiB 11630k https | vp09.00.50.08 11630k video only          2160p, webm_dash\n",
            "401     mp4   3840x2160   24    |  121.47MiB  6387k https | av01.0.12M.08  6387k video only          2160p, mp4_dash\n",
            "Format code: sb3, Resolution: 27, Extension: mhtml\n",
            "Format code: sb2, Resolution: 45, Extension: mhtml\n",
            "Format code: sb1, Resolution: 90, Extension: mhtml\n",
            "Format code: sb0, Resolution: 180, Extension: mhtml\n",
            "Format code: 233, Resolution: N/A, Extension: mp4, Audio Bitrate: None kbps\n",
            "Format code: 234, Resolution: N/A, Extension: mp4, Audio Bitrate: None kbps\n",
            "Format code: 599-drc, Resolution: None, Extension: m4a, Audio Bitrate: 30.85 kbps\n",
            "Format code: 600-drc, Resolution: None, Extension: webm, Audio Bitrate: 33.138 kbps\n",
            "Format code: 599, Resolution: None, Extension: m4a, Audio Bitrate: 30.85 kbps\n",
            "Format code: 600, Resolution: None, Extension: webm, Audio Bitrate: 33.177 kbps\n",
            "Format code: 139-drc, Resolution: None, Extension: m4a, Audio Bitrate: 48.824 kbps\n",
            "Format code: 249-drc, Resolution: None, Extension: webm, Audio Bitrate: 48.935 kbps\n",
            "Format code: 250-drc, Resolution: None, Extension: webm, Audio Bitrate: 64.815 kbps\n",
            "Format code: 139, Resolution: None, Extension: m4a, Audio Bitrate: 48.827 kbps\n",
            "Format code: 249, Resolution: None, Extension: webm, Audio Bitrate: 48.991 kbps\n",
            "Format code: 250, Resolution: None, Extension: webm, Audio Bitrate: 64.864 kbps\n",
            "Format code: 140-drc, Resolution: None, Extension: m4a, Audio Bitrate: 129.521 kbps\n",
            "Format code: 251-drc, Resolution: None, Extension: webm, Audio Bitrate: 129.24 kbps\n",
            "Format code: 140, Resolution: None, Extension: m4a, Audio Bitrate: 129.522 kbps\n",
            "Format code: 251, Resolution: None, Extension: webm, Audio Bitrate: 129.266 kbps\n",
            "Format code: 597, Resolution: 144, Extension: mp4\n",
            "Format code: 602, Resolution: 144, Extension: mp4\n",
            "Format code: 598, Resolution: 144, Extension: webm\n",
            "Format code: 269, Resolution: 144, Extension: mp4\n",
            "Format code: 160, Resolution: 144, Extension: mp4\n",
            "Format code: 603, Resolution: 144, Extension: mp4\n",
            "Format code: 278, Resolution: 144, Extension: webm\n",
            "Format code: 394, Resolution: 144, Extension: mp4\n",
            "Format code: 229, Resolution: 240, Extension: mp4\n",
            "Format code: 133, Resolution: 240, Extension: mp4\n",
            "Format code: 604, Resolution: 240, Extension: mp4\n",
            "Format code: 242, Resolution: 240, Extension: webm\n",
            "Format code: 395, Resolution: 240, Extension: mp4\n",
            "Format code: 230, Resolution: 360, Extension: mp4\n",
            "Format code: 134, Resolution: 360, Extension: mp4\n",
            "Format code: 18, Resolution: 360, Extension: mp4, Audio Bitrate: None kbps\n",
            "Format code: 605, Resolution: 360, Extension: mp4\n",
            "Format code: 243, Resolution: 360, Extension: webm\n",
            "Format code: 396, Resolution: 360, Extension: mp4\n",
            "Format code: 231, Resolution: 480, Extension: mp4\n",
            "Format code: 135, Resolution: 480, Extension: mp4\n",
            "Format code: 606, Resolution: 480, Extension: mp4\n",
            "Format code: 244, Resolution: 480, Extension: webm\n",
            "Format code: 397, Resolution: 480, Extension: mp4\n",
            "Format code: 232, Resolution: 720, Extension: mp4\n",
            "Format code: 136, Resolution: 720, Extension: mp4\n",
            "Format code: 609, Resolution: 720, Extension: mp4\n",
            "Format code: 247, Resolution: 720, Extension: webm\n",
            "Format code: 398, Resolution: 720, Extension: mp4\n",
            "Format code: 270, Resolution: 1080, Extension: mp4\n",
            "Format code: 137, Resolution: 1080, Extension: mp4\n",
            "Format code: 614, Resolution: 1080, Extension: mp4\n",
            "Format code: 248, Resolution: 1080, Extension: webm\n",
            "Format code: 399, Resolution: 1080, Extension: mp4\n",
            "Format code: 620, Resolution: 1440, Extension: mp4\n",
            "Format code: 271, Resolution: 1440, Extension: webm\n",
            "Format code: 400, Resolution: 1440, Extension: mp4\n",
            "Format code: 625, Resolution: 2160, Extension: mp4\n",
            "Format code: 313, Resolution: 2160, Extension: webm\n",
            "Format code: 401, Resolution: 2160, Extension: mp4\n"
          ]
        }
      ]
    },
    {
      "cell_type": "code",
      "source": [
        "video_format = ''  # Example: Replace with the desired video format code (e.g., 22 for 720p)\n",
        "audio_format = '140'  # Example: Replace with the desired audio format code (e.g., 140 for m4a audio)"
      ],
      "metadata": {
        "id": "MOZP3XxhONWe"
      },
      "execution_count": null,
      "outputs": []
    },
    {
      "cell_type": "code",
      "source": [
        "ydl_opts = {\n",
        "    'format': f'{video_format}+{audio_format}',  # Combine video and audio formats\n",
        "    'outtmpl': '/content/drive/My Drive/%(title)s.%(ext)s',  # Save to Google Drive\n",
        "    'merge_output_format': 'mp4',  # Merge into mp4 format\n",
        "}"
      ],
      "metadata": {
        "id": "h0NPvWrT5sfs"
      },
      "execution_count": null,
      "outputs": []
    },
    {
      "cell_type": "code",
      "source": [
        "with YoutubeDL(ydl_opts) as ydl:\n",
        "    ydl.download([video_url])\n",
        "\n",
        "print(\"Download and merge completed, saved to Google Drive!\")"
      ],
      "metadata": {
        "colab": {
          "base_uri": "https://localhost:8080/"
        },
        "id": "B1A93ht15yh9",
        "outputId": "4d41ed56-f599-4754-8e96-51745dc88542"
      },
      "execution_count": null,
      "outputs": [
        {
          "output_type": "stream",
          "name": "stdout",
          "text": [
            "[youtube] Extracting URL: https://youtu.be/5cx7rvMvAWo?si=REAqP14mmHpvqGJ3\n",
            "[youtube] 5cx7rvMvAWo: Downloading webpage\n",
            "[youtube] 5cx7rvMvAWo: Downloading ios player API JSON\n",
            "[youtube] 5cx7rvMvAWo: Downloading mweb player API JSON\n",
            "[youtube] 5cx7rvMvAWo: Downloading m3u8 information\n",
            "[info] 5cx7rvMvAWo: Downloading 1 format(s): 248+140\n",
            "[download] Destination: /content/drive/My Drive/Devara Part -1 Trailer (Telugu) ｜ NTR ｜ Saif Ali Khan ｜ Janhvi ｜ Koratala Siva ｜ Anirudh ｜ Sep 27.f248.webm\n",
            "[download] 100% of   24.57MiB in 00:00:00 at 35.41MiB/s  \n",
            "[download] Destination: /content/drive/My Drive/Devara Part -1 Trailer (Telugu) ｜ NTR ｜ Saif Ali Khan ｜ Janhvi ｜ Koratala Siva ｜ Anirudh ｜ Sep 27.f140.m4a\n",
            "[download] 100% of    2.46MiB in 00:00:00 at 25.09MiB/s  \n",
            "[Merger] Merging formats into \"/content/drive/My Drive/Devara Part -1 Trailer (Telugu) ｜ NTR ｜ Saif Ali Khan ｜ Janhvi ｜ Koratala Siva ｜ Anirudh ｜ Sep 27.mp4\"\n",
            "Deleting original file /content/drive/My Drive/Devara Part -1 Trailer (Telugu) ｜ NTR ｜ Saif Ali Khan ｜ Janhvi ｜ Koratala Siva ｜ Anirudh ｜ Sep 27.f248.webm (pass -k to keep)\n",
            "Deleting original file /content/drive/My Drive/Devara Part -1 Trailer (Telugu) ｜ NTR ｜ Saif Ali Khan ｜ Janhvi ｜ Koratala Siva ｜ Anirudh ｜ Sep 27.f140.m4a (pass -k to keep)\n",
            "Download and merge completed, saved to Google Drive!\n"
          ]
        }
      ]
    }
  ]
}